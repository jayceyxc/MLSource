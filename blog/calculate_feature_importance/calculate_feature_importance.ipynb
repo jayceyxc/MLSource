{
 "nbformat": 4,
 "nbformat_minor": 2,
 "metadata": {
  "language_info": {
   "name": "python",
   "codemirror_mode": {
    "name": "ipython",
    "version": 3
   },
   "version": "3.7.4-final"
  },
  "orig_nbformat": 2,
  "file_extension": ".py",
  "mimetype": "text/x-python",
  "name": "python",
  "npconvert_exporter": "python",
  "pygments_lexer": "ipython3",
  "version": 3,
  "kernelspec": {
   "name": "python37464bit882668f4d60f46179113f484e9f6b4fb",
   "display_name": "Python 3.7.4 64-bit"
  }
 },
 "cells": [
  {
   "cell_type": "markdown",
   "metadata": {},
   "source": [
    "# 如何用Python计算特征重要性"
   ]
  },
  {
   "cell_type": "markdown",
   "metadata": {},
   "source": [
    "特征重要性评分是一种为输入特征评分的手段，其依据是输入特征在预测目标变量过程中的有用程度。\n",
    "特征重要性有许多类型和来源，尽管有许多比较常见，比如说统计相关性得分，线性模型的部分系数，基于决策树的特征重要性和经过随机排序得到重要性得分。\n",
    "\n",
    "特征重要性在预测建模项目中起着重要作用，包括提供对数据、模型的见解，以及如何降维和选择特征，从而提高预测模型的的效率和有效性。\n",
    "\n",
    "在本教程中，我将会阐述用于python机器学习的特征重要性。完成本教程后，你将会知道：\n",
    "\n",
    "- 特征重要性在预测建模中的作用\n",
    "- 如何计算和查看来自线性模型和决策树的特征重要性\n",
    "- 如何计算和查看随机排序重要性得分"
   ]
  },
  {
   "cell_type": "markdown",
   "metadata": {},
   "source": [
    "## 1. 特征重要性\n",
    "\n",
    "特征重要性是一种为预测模型的输入特征评分的方法，该方法揭示了进行预测时每个特征的相对重要性。\n",
    "\n",
    "可以为涉及预测数值的问题（称为回归）和涉及预测类别标签的问题（称为分类）计算特征重要性得分。\n",
    "\n",
    "这些得分非常有用，可用于预测建模问题中的多种情况，例如：\n",
    "\n",
    "- 更好地理解数据\n",
    "- 更好地理解模型\n",
    "- 减少输入特征的数量\n",
    " \n",
    "\n",
    "### 特征重要性得分可以帮助了解数据集\n",
    "相对得分可以突出显示哪些特征可能与目标最相关，反之则突出哪些特征最不相关。这可以由一个领域专家解释，并且可以用作收集更多的或不同的数据的基础。\n",
    "\n",
    "### 特征重要性得分可以帮助了解模型\n",
    "大多数重要性得分是通过数据集拟合出的预测模型计算的。查看重要性得分可以洞悉该特定模型，以及知道在进行预测时哪些特征最重要和哪些最不重要。这是一种模型解释，适用于那些支持它的模型。\n",
    "\n",
    "### 特征重要性可用于改进预测模型\n",
    "可以使用的重要性得分来选择要删除的特征（最低得分）或要保留的特征（最高得分）。这是一种特征选择，可以简化正在建模的问题，加快建模过程（删除特征称为降维），在某些情况下，还可以改善模型的性能。\n",
    "\n",
    "特征重要性得分可以被输入到包装器模型，如SelectFromModel或SelectKBest，以进行特征选择。\n",
    "\n",
    "有许多方法和模型可以计算特征重要性得分。\n",
    "\n",
    "也许最简单的方法是计算每个特征和目标变量之间的统计学相关系数。\n",
    "\n",
    "在本教程中，我们将研究三种比较高级的特征重要性，即：\n",
    "\n",
    "- 从模型系数得知的特征重要性。\n",
    "- 决策树中的特征重要性。\n",
    "- 随机排序检验中的特征重要性。\n",
    "\n",
    "现在让我们深入了解这三个！"
   ]
  },
  {
   "cell_type": "markdown",
   "metadata": {},
   "source": [
    "## 2. 准备\n",
    "\n",
    "在深入学习之前，我们先确认我们的环境并准备一些测试数据集。\n",
    "\n",
    "检查Scikit-Learn版本\n",
    "首先，确认你已安装最新版本的scikit-learn库。这非常重要，因为在本教程中，我们我们研究的一些模型需要最新版的库。\n",
    "\n",
    "您可以使用以下示例代码来查看已安装的库的版本："
   ]
  },
  {
   "cell_type": "code",
   "execution_count": 1,
   "metadata": {},
   "outputs": [],
   "source": [
    "# check scikit-learn version\n",
    "import sklearn"
   ]
  },
  {
   "cell_type": "code",
   "execution_count": 2,
   "metadata": {},
   "outputs": [
    {
     "output_type": "stream",
     "name": "stdout",
     "text": "0.22.2.post1\n"
    }
   ],
   "source": [
    "print(sklearn.__version__)"
   ]
  },
  {
   "cell_type": "markdown",
   "metadata": {},
   "source": [
    "接下来，让我们生成一些测试数据集，这些数据集可以作为基础来证明和探索特征重要性得分。每个测试问题有五个重要特征和五不重要的特征，看看哪种方法可以根据其重要性找到或区分特征可能会比较有意思。"
   ]
  },
  {
   "cell_type": "markdown",
   "metadata": {},
   "source": [
    "### 2.1 分类数据集\n",
    "我们将使用`make_classification()`函数创建一个用于测试的二进制分类数据集。\n",
    "\n",
    "数据集将包含1000个实例，且包含10个输入特征，其中五个将会提供信息，其余五个是多余的。\n",
    "\n",
    "为了确保每次运行代码时都得到相同的实例，我们将使用假随机数种子。下面列出了创建数据集的示例。"
   ]
  },
  {
   "cell_type": "code",
   "execution_count": 3,
   "metadata": {},
   "outputs": [],
   "source": [
    "# test classification dataset\n",
    "from sklearn.datasets import make_classification"
   ]
  },
  {
   "cell_type": "code",
   "execution_count": 4,
   "metadata": {},
   "outputs": [
    {
     "output_type": "stream",
     "name": "stdout",
     "text": "(1000, 10) (1000,)\n"
    }
   ],
   "source": [
    "# define dataset  \n",
    "X, y = make_classification(n_samples=1000, n_features=10, n_informative=5, n_redundant=5, random_state=1)  \n",
    "# summarize the dataset  \n",
    "print(X.shape, y.shape) "
   ]
  },
  {
   "cell_type": "markdown",
   "metadata": {},
   "source": [
    "### 2.2 回归数据集\n",
    "\n",
    "我们将使用`make_regression()`函数创建一个用于测试的回归数据集。\n",
    "\n",
    "像分类数据集一样，回归数据集将包含1000个实例，且包含10个输入特征，其中五个将会提供信息，其余五个是多余的。"
   ]
  },
  {
   "cell_type": "code",
   "execution_count": 5,
   "metadata": {},
   "outputs": [
    {
     "output_type": "stream",
     "name": "stdout",
     "text": "(1000, 10) (1000,)\n"
    }
   ],
   "source": [
    "# test regression dataset  \n",
    "from sklearn.datasets import make_regression  \n",
    "# define dataset  \n",
    "X, y = make_regression(n_samples=1000, n_features=10, n_informative=5, random_state=1)  \n",
    "# summarize the dataset  \n",
    "print(X.shape, y.shape)  "
   ]
  },
  {
   "cell_type": "markdown",
   "metadata": {},
   "source": [
    "## 3. 特征重要性系数\n",
    "\n",
    "线性的机器学习能够拟合出预测是输入值的加权和的模型。\n",
    "\n",
    "案例包括线性回归，逻辑回归，和正则化的扩展案例，如岭回归和弹性网络。\n",
    "\n",
    "所有这些算法都是找到一组要在加权求和中使用的系数，以便进行预测。这些系数可以直接用作粗略类型的特征重要性得分。\n",
    "\n",
    "我们来仔细研究一下分类和回归中的特征重要性系数。我们将在数据集中拟合出一个模型以找到系数，然后计算每个输入特征的重要性得分，最终创建一个条形图来了解特征的相对重要性。"
   ]
  },
  {
   "cell_type": "markdown",
   "metadata": {},
   "source": [
    "### 3.1线性回归特征重要性\n",
    "我们可以在回归数据集中拟合出一个LinearRegression模型，并检索coeff_属性，该属性包含为每个输入变量（特征）找到的系数。这些系数可以为粗略特征重要性评分提供依据。该模型假设输入变量具有相同的比例或者在拟合模型之前已被按比例缩放。\n",
    "\n",
    "这种方法也可以用于岭回归和弹性网络模型。"
   ]
  },
  {
   "cell_type": "code",
   "execution_count": 9,
   "metadata": {},
   "outputs": [
    {
     "output_type": "stream",
     "name": "stdout",
     "text": "Feature: 0, Score: -0.00000\nFeature: 1, Score: 12.44483\nFeature: 2, Score: -0.00000\nFeature: 3, Score: -0.00000\nFeature: 4, Score: 93.32225\nFeature: 5, Score: 86.50811\nFeature: 6, Score: 26.74607\nFeature: 7, Score: 3.28535\nFeature: 8, Score: -0.00000\nFeature: 9, Score: 0.00000\n"
    },
    {
     "output_type": "display_data",
     "data": {
      "text/plain": "<Figure size 432x288 with 1 Axes>",
      "image/png": "[encoded data removed]"
     },
     "metadata": {
      "needs_background": "light"
     }
    }
   ],
   "source": [
    "# linear regression feature importance  \n",
    "from sklearn.datasets import make_regression  \n",
    "from sklearn.linear_model import LinearRegression  \n",
    "from matplotlib import pyplot  \n",
    "# define dataset  \n",
    "X, y = make_regression(n_samples=1000, n_features=10, n_informative=5, random_state=1)  \n",
    "# define the model  \n",
    "model = LinearRegression()  \n",
    "# fit the model  \n",
    "model.fit(X, y)  \n",
    "# get importance  \n",
    "importance = model.coef_  \n",
    "# summarize feature importance  \n",
    "for i,v in enumerate(importance):  \n",
    "    print('Feature: %0d, Score: %.5f' % (i,v))  \n",
    "# plot feature importance  \n",
    "pyplot.bar([x for x in range(len(importance))], importance)\n",
    "pyplot.savefig('linear_regression_feature_importance.png')\n",
    "pyplot.show()"
   ]
  },
  {
   "cell_type": "markdown",
   "metadata": {},
   "source": [
    "### 3.2 Logistic回归特征重要性\n",
    "\n",
    "就像线性回归模型一样，我们也可以在回归数据集中拟合出一个LogisticRegression模型，并检索coeff_属性。这些系数可以为粗略特征重要性评分提供依据。该模型假设输入变量具有相同的比例或者在拟合模型之前已被按比例缩放。"
   ]
  },
  {
   "cell_type": "code",
   "execution_count": 10,
   "metadata": {},
   "outputs": [
    {
     "output_type": "stream",
     "name": "stdout",
     "text": "Feature: 0, Score: 0.16320\nFeature: 1, Score: -0.64301\nFeature: 2, Score: 0.48497\nFeature: 3, Score: -0.46190\nFeature: 4, Score: 0.18432\nFeature: 5, Score: -0.11978\nFeature: 6, Score: -0.40602\nFeature: 7, Score: 0.03772\nFeature: 8, Score: -0.51785\nFeature: 9, Score: 0.26540\n"
    },
    {
     "output_type": "display_data",
     "data": {
      "text/plain": "<Figure size 432x288 with 1 Axes>",
      "image/png": "[encoded data removed]"
     },
     "metadata": {
      "needs_background": "light"
     }
    }
   ],
   "source": [
    "# logistic regression for feature importance\n",
    "from sklearn.datasets import make_classification\n",
    "from sklearn.linear_model import LogisticRegression\n",
    "from matplotlib import pyplot\n",
    "# define dataset\n",
    "X, y = make_classification(n_samples=1000, n_features=10, n_informative=5, n_redundant=5, random_state=1)\n",
    "# define the model\n",
    "model = LogisticRegression()\n",
    "# fit the model\n",
    "model.fit(X, y)\n",
    "# get importance\n",
    "importance = model.coef_[0]\n",
    "# summarize feature importance\n",
    "for i,v in enumerate(importance):\n",
    "    print('Feature: %0d, Score: %.5f' % (i,v))\n",
    "# plot feature importance\n",
    "pyplot.bar([x for x in range(len(importance))], importance)\n",
    "pyplot.savefig('logistic_regression_feature_importance.png')\n",
    "pyplot.show()"
   ]
  },
  {
   "cell_type": "markdown",
   "metadata": {},
   "source": [
    "回想一下，这是有关0和1的分类问题。请注意系数既可以为正，也可以为负。正数表示预测类别1的特征，而负数表示预测类别0的特征。"
   ]
  },
  {
   "cell_type": "markdown",
   "metadata": {},
   "source": [
    "## 4. 基于决策树的特征重要性\n",
    "\n",
    "决策树算法，比如说classification and regression trees（CART）根据Gini系数或熵的减少来提供重要性得分。这个方法也可用于随机森林和梯度提升算法。"
   ]
  },
  {
   "cell_type": "markdown",
   "metadata": {},
   "source": [
    "### 4.1 基于CART的特征重要性\n",
    "对于在scikit-learn中实现的特征重要性，我们可以将CART算法用于DecisionTreeRegressor和DecisionTreeClassifier类\n",
    "\n",
    "拟合后，模型提供feature_importances_属性，可以访问该属性以检索每个输入特征的相对重要性得分。\n",
    "\n",
    "让我们看一个用于回归和分类的示例。"
   ]
  },
  {
   "cell_type": "code",
   "execution_count": 12,
   "metadata": {},
   "outputs": [
    {
     "output_type": "stream",
     "name": "stdout",
     "text": "Feature: 0, Score: 0.00255\nFeature: 1, Score: 0.00425\nFeature: 2, Score: 0.00155\nFeature: 3, Score: 0.00186\nFeature: 4, Score: 0.51767\nFeature: 5, Score: 0.43817\nFeature: 6, Score: 0.02752\nFeature: 7, Score: 0.00204\nFeature: 8, Score: 0.00267\nFeature: 9, Score: 0.00172\n"
    },
    {
     "output_type": "display_data",
     "data": {
      "text/plain": "<Figure size 432x288 with 1 Axes>",
      "image/png": "[encoded data removed]"
     },
     "metadata": {
      "needs_background": "light"
     }
    }
   ],
   "source": [
    "# 基于CART（回归）的特征重要性\n",
    "# decision tree for feature importance on a regression problem\n",
    "from sklearn.datasets import make_regression\n",
    "from sklearn.tree import DecisionTreeRegressor\n",
    "from matplotlib import pyplot\n",
    "# define dataset\n",
    "X, y = make_regression(n_samples=1000, n_features=10, n_informative=5, random_state=1)\n",
    "# define the model\n",
    "model = DecisionTreeRegressor()\n",
    "# fit the model\n",
    "model.fit(X, y)\n",
    "# get importance\n",
    "importance = model.feature_importances_\n",
    "# summarize feature importance\n",
    "for i,v in enumerate(importance):\n",
    "    print('Feature: %0d, Score: %.5f' % (i,v))\n",
    "# plot feature importance\n",
    "pyplot.bar([x for x in range(len(importance))], importance)\n",
    "pyplot.savefig('decision_tree_regression_feature_importance.png')\n",
    "pyplot.show()"
   ]
  },
  {
   "cell_type": "code",
   "execution_count": 13,
   "metadata": {},
   "outputs": [
    {
     "output_type": "stream",
     "name": "stdout",
     "text": "Feature: 0, Score: 0.03431\nFeature: 1, Score: 0.01200\nFeature: 2, Score: 0.18030\nFeature: 3, Score: 0.29922\nFeature: 4, Score: 0.09378\nFeature: 5, Score: 0.00467\nFeature: 6, Score: 0.15741\nFeature: 7, Score: 0.05149\nFeature: 8, Score: 0.12904\nFeature: 9, Score: 0.03778\n"
    },
    {
     "output_type": "display_data",
     "data": {
      "text/plain": "<Figure size 432x288 with 1 Axes>",
      "image/png": "[encoded data removed]"
     },
     "metadata": {
      "needs_background": "light"
     }
    }
   ],
   "source": [
    "# 基于CART（分类）的特征重要性\n",
    "# decision tree for feature importance on a classification problem\n",
    "from sklearn.datasets import make_classification\n",
    "from sklearn.tree import DecisionTreeClassifier\n",
    "from matplotlib import pyplot\n",
    "# define dataset\n",
    "X, y = make_classification(n_samples=1000, n_features=10, n_informative=5, n_redundant=5, random_state=1)\n",
    "# define the model\n",
    "model = DecisionTreeClassifier()\n",
    "# fit the model\n",
    "model.fit(X, y)\n",
    "# get importance\n",
    "importance = model.feature_importances_\n",
    "# summarize feature importance\n",
    "for i,v in enumerate(importance):\n",
    "    print('Feature: %0d, Score: %.5f' % (i,v))\n",
    "# plot feature importance\n",
    "pyplot.bar([x for x in range(len(importance))], importance)\n",
    "pyplot.savefig('decision_tree_classification_feature_importance.png')\n",
    "pyplot.show()"
   ]
  },
  {
   "cell_type": "markdown",
   "metadata": {},
   "source": [
    "### 4.2随机森林中的特征重要性\n",
    "\n",
    "对于在scikit-learn中实现的特征重要性，我们可以将Random Forest算法用于RandomForestRegressor和RandomForestClassifier类。\n",
    "\n",
    "拟合后，模型提供feature_importances_属性，可以访问该属性以检索每个输入特征的相对重要性得分。\n",
    "\n",
    "这种方法也可以与装袋和极端随机树（extraTree）算法一起使用。\n",
    "\n",
    "让我们看一个用于回归和分类的示例。"
   ]
  },
  {
   "cell_type": "code",
   "execution_count": 14,
   "metadata": {},
   "outputs": [
    {
     "output_type": "stream",
     "name": "stdout",
     "text": "Feature: 0, Score: 0.00298\nFeature: 1, Score: 0.00510\nFeature: 2, Score: 0.00281\nFeature: 3, Score: 0.00293\nFeature: 4, Score: 0.52941\nFeature: 5, Score: 0.42158\nFeature: 6, Score: 0.02612\nFeature: 7, Score: 0.00300\nFeature: 8, Score: 0.00313\nFeature: 9, Score: 0.00294\n"
    },
    {
     "output_type": "display_data",
     "data": {
      "text/plain": "<Figure size 432x288 with 1 Axes>",
      "image/png": "[encoded data removed]"
     },
     "metadata": {
      "needs_background": "light"
     }
    }
   ],
   "source": [
    "# 随机森林（回归）中的特征重要性\n",
    "# random forest for feature importance on a regression problem\n",
    "from sklearn.datasets import make_regression\n",
    "from sklearn.ensemble import RandomForestRegressor\n",
    "from matplotlib import pyplot\n",
    "# define dataset\n",
    "X, y = make_regression(n_samples=1000, n_features=10, n_informative=5, random_state=1)\n",
    "# define the model\n",
    "model = RandomForestRegressor()\n",
    "# fit the model\n",
    "model.fit(X, y)\n",
    "# get importance\n",
    "importance = model.feature_importances_\n",
    "# summarize feature importance\n",
    "for i,v in enumerate(importance):\n",
    "    print('Feature: %0d, Score: %.5f' % (i,v))\n",
    "# plot feature importance\n",
    "pyplot.bar([x for x in range(len(importance))], importance)\n",
    "pyplot.savefig('random_forest_regression_feature_importance.png')\n",
    "pyplot.show()"
   ]
  },
  {
   "cell_type": "code",
   "execution_count": 15,
   "metadata": {},
   "outputs": [
    {
     "output_type": "stream",
     "name": "stdout",
     "text": "Feature: 0, Score: 0.06566\nFeature: 1, Score: 0.10831\nFeature: 2, Score: 0.16528\nFeature: 3, Score: 0.18956\nFeature: 4, Score: 0.08240\nFeature: 5, Score: 0.10828\nFeature: 6, Score: 0.10255\nFeature: 7, Score: 0.04922\nFeature: 8, Score: 0.08633\nFeature: 9, Score: 0.04241\n"
    },
    {
     "output_type": "display_data",
     "data": {
      "text/plain": "<Figure size 432x288 with 1 Axes>",
      "image/png": "[encoded data removed]"
     },
     "metadata": {
      "needs_background": "light"
     }
    }
   ],
   "source": [
    "# 随机森林（分类）中的特征重要性\n",
    "# random forest for feature importance on a classification problem\n",
    "from sklearn.datasets import make_classification\n",
    "from sklearn.ensemble import RandomForestClassifier\n",
    "from matplotlib import pyplot\n",
    "# define dataset\n",
    "X, y = make_classification(n_samples=1000, n_features=10, n_informative=5, n_redundant=5, random_state=1)\n",
    "# define the model\n",
    "model = RandomForestClassifier()\n",
    "# fit the model\n",
    "model.fit(X, y)\n",
    "# get importance\n",
    "importance = model.feature_importances_\n",
    "# summarize feature importance\n",
    "for i,v in enumerate(importance):\n",
    "    print('Feature: %0d, Score: %.5f' % (i,v))\n",
    "# plot feature importance\n",
    "pyplot.bar([x for x in range(len(importance))], importance)\n",
    "pyplot.savefig('random_forest_classification_feature_importance.png')\n",
    "pyplot.show()"
   ]
  },
  {
   "cell_type": "markdown",
   "metadata": {},
   "source": [
    "### 4.3基于XGBoost的特征重要性\n",
    "XGBoost是一个库，它提供了随机梯度提升算法的高效实现。可以通过XGBRegressor和XGBClassifier类将此算法与scikit-learn一起使用。\n",
    "\n",
    "拟合后，模型提供feature_importances_属性，可以访问该属性以检索每个输入特征的相对重要性得分。\n",
    "\n",
    "scikit-learn还通过GradientBoostingClassifier和GradientBoostingRegressor提供了该算法，并且可以使用相同的特征选择方法"
   ]
  },
  {
   "cell_type": "markdown",
   "metadata": {},
   "source": [
    "首先，安装XGBoost库，例如：\n",
    "```\n",
    "1. sudo pip install xgboost\n",
    "```\n",
    "然后，通过检查版本号来确认该库已正确安装并且可以正常工作。"
   ]
  },
  {
   "cell_type": "code",
   "execution_count": 16,
   "metadata": {},
   "outputs": [
    {
     "output_type": "stream",
     "name": "stderr",
     "text": "/usr/local/lib/python3.7/site-packages/dask/dataframe/utils.py:14: FutureWarning: pandas.util.testing is deprecated. Use the functions in the public API at pandas.testing instead.\n  import pandas.util.testing as tm\n"
    },
    {
     "output_type": "execute_result",
     "data": {
      "text/plain": "'1.0.2'"
     },
     "metadata": {},
     "execution_count": 16
    }
   ],
   "source": [
    "# check xgboost version\n",
    "import xgboost\n",
    "xgboost.__version__"
   ]
  },
  {
   "cell_type": "code",
   "execution_count": 17,
   "metadata": {},
   "outputs": [
    {
     "output_type": "stream",
     "name": "stdout",
     "text": "Feature: 0, Score: 0.00039\nFeature: 1, Score: 0.00583\nFeature: 2, Score: 0.00112\nFeature: 3, Score: 0.00129\nFeature: 4, Score: 0.49502\nFeature: 5, Score: 0.46443\nFeature: 6, Score: 0.02951\nFeature: 7, Score: 0.00086\nFeature: 8, Score: 0.00075\nFeature: 9, Score: 0.00079\n"
    },
    {
     "output_type": "display_data",
     "data": {
      "text/plain": "<Figure size 432x288 with 1 Axes>",
      "image/png": "[encoded data removed]"
     },
     "metadata": {
      "needs_background": "light"
     }
    }
   ],
   "source": [
    "# 基于XGBoost（回归）的特征重要性\n",
    "# xgboost for feature importance on a regression problem\n",
    "from sklearn.datasets import make_regression\n",
    "from xgboost import XGBRegressor\n",
    "from matplotlib import pyplot\n",
    "# define dataset\n",
    "X, y = make_regression(n_samples=1000, n_features=10, n_informative=5, random_state=1)\n",
    "# define the model\n",
    "model = XGBRegressor()\n",
    "# fit the model\n",
    "model.fit(X, y)\n",
    "# get importance\n",
    "importance = model.feature_importances_\n",
    "# summarize feature importance\n",
    "for i,v in enumerate(importance):\n",
    "    print('Feature: %0d, Score: %.5f' % (i,v))\n",
    "# plot feature importance\n",
    "pyplot.bar([x for x in range(len(importance))], importance)\n",
    "pyplot.savefig('xgboost_regression_feature_importance.png')\n",
    "pyplot.show()"
   ]
  },
  {
   "cell_type": "code",
   "execution_count": 18,
   "metadata": {},
   "outputs": [
    {
     "output_type": "stream",
     "name": "stdout",
     "text": "Feature: 0, Score: 0.03723\nFeature: 1, Score: 0.07725\nFeature: 2, Score: 0.12537\nFeature: 3, Score: 0.29666\nFeature: 4, Score: 0.10099\nFeature: 5, Score: 0.05706\nFeature: 6, Score: 0.13027\nFeature: 7, Score: 0.03537\nFeature: 8, Score: 0.11694\nFeature: 9, Score: 0.02285\n"
    },
    {
     "output_type": "display_data",
     "data": {
      "text/plain": "<Figure size 432x288 with 1 Axes>",
      "image/png": "[encoded data removed]"
     },
     "metadata": {
      "needs_background": "light"
     }
    }
   ],
   "source": [
    "# 基于XGBoost（分类）的特征重要性\n",
    "# xgboost for feature importance on a classification problem\n",
    "from sklearn.datasets import make_classification\n",
    "from xgboost import XGBClassifier\n",
    "from matplotlib import pyplot\n",
    "# define dataset\n",
    "X, y = make_classification(n_samples=1000, n_features=10, n_informative=5, n_redundant=5, random_state=1)\n",
    "# define the model\n",
    "model = XGBClassifier()\n",
    "# fit the model\n",
    "model.fit(X, y)\n",
    "# get importance\n",
    "importance = model.feature_importances_\n",
    "# summarize feature importance\n",
    "for i,v in enumerate(importance):\n",
    "    print('Feature: %0d, Score: %.5f' % (i,v))\n",
    "# plot feature importance\n",
    "pyplot.bar([x for x in range(len(importance))], importance)\n",
    "pyplot.savefig('xgboost_classification_feature_importance.png')\n",
    "pyplot.show()"
   ]
  },
  {
   "cell_type": "markdown",
   "metadata": {},
   "source": [
    "## 5. 基于随机排序的特征重要性\n",
    "\n",
    "随机排序特征重要性（Permutation feature importance）可以计算相对重要性，与所使用的模型无关。\n",
    "\n",
    "首先，在数据集中拟合出一个模型，比如说一个不支持本地特征重要性评分的模型。然后，尽管对数据集中的特征值进行了干扰，但仍可以使用该模型进行预测。对数据集中的每个特征进行此操作。然后，再将整个流程重新操作3、5、10或更多次。我们得到每个输入特征的平均重要性得分（以及在重复的情况下得分的分布）。\n",
    "\n",
    "此方法可以用于回归或分类，要求选择性能指标作为重要性得分的基础，例如回归中的均方误差和分类中的准确性。\n",
    "\n",
    "可以通过`permutation_importance()`函数（以模型和数据集为参数）和评分函数进行随机排序特性选择。\n",
    "\n",
    "让我们看下这个特征选择方法，其算法并不支持特征选择，尤其是k近邻算法（ k-nearest neighbors）。"
   ]
  },
  {
   "cell_type": "code",
   "execution_count": 19,
   "metadata": {},
   "outputs": [
    {
     "output_type": "stream",
     "name": "stdout",
     "text": "Feature: 0, Score: 127.32844\nFeature: 1, Score: 269.25869\nFeature: 2, Score: 185.71310\nFeature: 3, Score: 55.17118\nFeature: 4, Score: 9505.84555\nFeature: 5, Score: 8006.96410\nFeature: 6, Score: 905.83999\nFeature: 7, Score: 156.80188\nFeature: 8, Score: 156.68583\nFeature: 9, Score: 99.63719\n"
    },
    {
     "output_type": "display_data",
     "data": {
      "text/plain": "<Figure size 432x288 with 1 Axes>",
      "image/png": "[encoded data removed]"
     },
     "metadata": {
      "needs_background": "light"
     }
    }
   ],
   "source": [
    "# 随机排序（回归）特征重要性\n",
    "# 下面列出了拟合KNeighborsRegressor并且计算特征重要性得分的完整示例。\n",
    "# permutation feature importance with knn for regression\n",
    "from sklearn.datasets import make_regression\n",
    "from sklearn.neighbors import KNeighborsRegressor\n",
    "from sklearn.inspection import permutation_importance\n",
    "from matplotlib import pyplot\n",
    "# define dataset\n",
    "X, y = make_regression(n_samples=1000, n_features=10, n_informative=5, random_state=1)\n",
    "# define the model\n",
    "model = KNeighborsRegressor()\n",
    "# fit the model\n",
    "model.fit(X, y)\n",
    "# perform permutation importance\n",
    "results = permutation_importance(model, X, y, scoring='neg_mean_squared_error')\n",
    "# get importance\n",
    "importance = results.importances_mean\n",
    "# summarize feature importance\n",
    "for i,v in enumerate(importance):\n",
    "    print('Feature: %0d, Score: %.5f' % (i,v))\n",
    "# plot feature importance\n",
    "pyplot.bar([x for x in range(len(importance))], importance)\n",
    "pyplot.savefig('permutation_knn_regression_feature_importance.png')\n",
    "pyplot.show()"
   ]
  },
  {
   "cell_type": "code",
   "execution_count": 20,
   "metadata": {},
   "outputs": [
    {
     "output_type": "stream",
     "name": "stdout",
     "text": "Feature: 0, Score: 0.05580\nFeature: 1, Score: 0.06280\nFeature: 2, Score: 0.05120\nFeature: 3, Score: 0.09060\nFeature: 4, Score: 0.04780\nFeature: 5, Score: 0.05780\nFeature: 6, Score: 0.07340\nFeature: 7, Score: 0.05140\nFeature: 8, Score: 0.05460\nFeature: 9, Score: 0.02960\n"
    },
    {
     "output_type": "display_data",
     "data": {
      "text/plain": "<Figure size 432x288 with 1 Axes>",
      "image/png": "[encoded data removed]"
     },
     "metadata": {
      "needs_background": "light"
     }
    }
   ],
   "source": [
    "# 随机排序（分类）特征重要性\n",
    "# permutation feature importance with knn for classification\n",
    "from sklearn.datasets import make_classification\n",
    "from sklearn.neighbors import KNeighborsClassifier\n",
    "from sklearn.inspection import permutation_importance\n",
    "from matplotlib import pyplot\n",
    "# define dataset\n",
    "X, y = make_classification(n_samples=1000, n_features=10, n_informative=5, n_redundant=5, random_state=1)\n",
    "# define the model\n",
    "model = KNeighborsClassifier()\n",
    "# fit the model\n",
    "model.fit(X, y)\n",
    "# perform permutation importance\n",
    "results = permutation_importance(model, X, y, scoring='accuracy')\n",
    "# get importance\n",
    "importance = results.importances_mean\n",
    "# summarize feature importance\n",
    "for i,v in enumerate(importance):\n",
    "    print('Feature: %0d, Score: %.5f' % (i,v))\n",
    "# plot feature importance\n",
    "pyplot.bar([x for x in range(len(importance))], importance)\n",
    "pyplot.savefig('permutation_knn_classification_feature_importance.png')\n",
    "pyplot.show()"
   ]
  },
  {
   "cell_type": "code",
   "execution_count": 21,
   "metadata": {},
   "outputs": [
    {
     "output_type": "stream",
     "name": "stdout",
     "text": "Help on function permutation_importance in module sklearn.inspection._permutation_importance:\n\npermutation_importance(estimator, X, y, scoring=None, n_repeats=5, n_jobs=None, random_state=None)\n    Permutation importance for feature evaluation [BRE]_.\n    \n    The :term:`estimator` is required to be a fitted estimator. `X` can be the\n    data set used to train the estimator or a hold-out set. The permutation\n    importance of a feature is calculated as follows. First, a baseline metric,\n    defined by :term:`scoring`, is evaluated on a (potentially different)\n    dataset defined by the `X`. Next, a feature column from the validation set\n    is permuted and the metric is evaluated again. The permutation importance\n    is defined to be the difference between the baseline metric and metric from\n    permutating the feature column.\n    \n    Read more in the :ref:`User Guide <permutation_importance>`.\n    \n    Parameters\n    ----------\n    estimator : object\n        An estimator that has already been :term:`fitted` and is compatible\n        with :term:`scorer`.\n    \n    X : ndarray or DataFrame, shape (n_samples, n_features)\n        Data on which permutation importance will be computed.\n    \n    y : array-like or None, shape (n_samples, ) or (n_samples, n_classes)\n        Targets for supervised or `None` for unsupervised.\n    \n    scoring : string, callable or None, default=None\n        Scorer to use. It can be a single\n        string (see :ref:`scoring_parameter`) or a callable (see\n        :ref:`scoring`). If None, the estimator's default scorer is used.\n    \n    n_repeats : int, default=5\n        Number of times to permute a feature.\n    \n    n_jobs : int or None, default=None\n        The number of jobs to use for the computation.\n        `None` means 1 unless in a :obj:`joblib.parallel_backend` context.\n        `-1` means using all processors. See :term:`Glossary <n_jobs>`\n        for more details.\n    \n    random_state : int, RandomState instance, or None, default=None\n        Pseudo-random number generator to control the permutations of each\n        feature. See :term:`random_state`.\n    \n    Returns\n    -------\n    result : Bunch\n        Dictionary-like object, with attributes:\n    \n        importances_mean : ndarray, shape (n_features, )\n            Mean of feature importance over `n_repeats`.\n        importances_std : ndarray, shape (n_features, )\n            Standard deviation over `n_repeats`.\n        importances : ndarray, shape (n_features, n_repeats)\n            Raw permutation importance scores.\n    \n    References\n    ----------\n    .. [BRE] L. Breiman, \"Random Forests\", Machine Learning, 45(1), 5-32,\n             2001. https://doi.org/10.1023/A:1010933404324\n\n"
    }
   ],
   "source": [
    "help(permutation_importance)"
   ]
  },
  {
   "cell_type": "markdown",
   "metadata": {},
   "source": [
    "## 总结\n",
    "在本教程中，您知道了在Python机器学习中的特征重要性得分。\n",
    "\n",
    "具体来说，您了解到：\n",
    "\n",
    "- 特征重要性在预测建模问题中的作用\n",
    "\n",
    "- 如何从线性模型和决策树中计算和查看特征重要性\n",
    "\n",
    "- 如何计算和查看随机排序特征重要性得分"
   ]
  },
  {
   "cell_type": "code",
   "execution_count": null,
   "metadata": {},
   "outputs": [],
   "source": []
  }
 ]
}